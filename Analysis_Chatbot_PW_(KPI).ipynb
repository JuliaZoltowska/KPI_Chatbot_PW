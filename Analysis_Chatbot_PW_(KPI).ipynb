{
 "cells": [
  {
   "cell_type": "code",
   "execution_count": 17,
   "metadata": {},
   "outputs": [
    {
     "name": "stdout",
     "output_type": "stream",
     "text": [
      "   Column1  id                         sender_id        type_name  \\\n",
      "0        0   1  5b4e6c442a364c9a8fdaf78bb61529a9           action   \n",
      "1        1   2  5b4e6c442a364c9a8fdaf78bb61529a9  session_started   \n",
      "2        2   3  5b4e6c442a364c9a8fdaf78bb61529a9           action   \n",
      "3        3   4  5b4e6c442a364c9a8fdaf78bb61529a9             user   \n",
      "4        4   5  5b4e6c442a364c9a8fdaf78bb61529a9           action   \n",
      "\n",
      "            timestamp intent_name           action_name    text  \\\n",
      "0 2020-12-13 16:39:00        None  action_session_start    None   \n",
      "1 2020-12-13 16:39:00        None                  None    None   \n",
      "2 2020-12-13 16:39:00        None         action_listen    None   \n",
      "3 2020-12-13 16:39:00       greet                  None  /greet   \n",
      "4 2020-12-13 16:39:00        None           utter_greet    None   \n",
      "\n",
      "              slot_name slot_value intent_confidence  \n",
      "0  action_session_start       None              None  \n",
      "1                  None       None              None  \n",
      "2         action_listen       None              None  \n",
      "3                  None       None               1.0  \n",
      "4           utter_greet       None              None  \n"
     ]
    }
   ],
   "source": [
    "import pandas as pd\n",
    "import csv \n",
    "df = pd.read_csv(\"rasa_events_processed.csv\",delimiter=\";\",parse_dates =['timestamp']) # zastosowane 'relative paths',żeby program zadział nie tylko w wybranym folderze  \n",
    "df[\"timestamp\"] = pd.to_datetime(df[\"timestamp\"], unit=\"s\")\n",
    "#df[\"sender_id\"] = df[\"sender_id\"].astype(\"category\")\n",
    "df = df.fillna(\"None\")\n",
    "print(df.head())"
   ]
  },
  {
   "cell_type": "code",
   "execution_count": 18,
   "metadata": {},
   "outputs": [
    {
     "name": "stdout",
     "output_type": "stream",
     "text": [
      "Liczba użytkowników: 14\n",
      "Liczba wiadomości: 131\n",
      "Średnia liczba wiadomości na sesję w okreście czasu od 2020-12-13 do 2020-12-19: 9.357142857142858\n"
     ]
    }
   ],
   "source": [
    "# Wskaźnik średnia liczba wiadomości na sesję w okresie czasu: 13-19.12.2020\n",
    "def get_unique_users(df, start_date, end_date):\n",
    "    truncated_df = df[(df[\"timestamp\"] >= start_date) & (df[\"timestamp\"] < end_date)]\n",
    "    #agrs: \n",
    "    # df-dataFrame z pliku csv, \n",
    "    # start-date-typ date,data początkowa,\n",
    "    # end_date-typ date, data końcowa\n",
    "    # returns:\n",
    "    #sessions, typ int, Liczba użytkowników od 2020-12-13 do 2020-12-19\n",
    "    return truncated_df[\"sender_id\"].nunique()\n",
    "\n",
    "sessions = get_unique_users(df, \"2020-12-13\", \"2020-12-19\")\n",
    "print(f\"Liczba użytkowników: {sessions}\")\n",
    "\n",
    "def get_unique_texts(df, start_date, end_date):\n",
    "    truncated_df = df[(df[\"timestamp\"] >= start_date) & (df[\"timestamp\"] < end_date)]\n",
    "    #agrs: \n",
    "    # df-dataFrame z pliku csv, \n",
    "    # start-date-typ date, data początkowa,\n",
    "    # end_date-typ date, data końcowa\n",
    "    # returns:\n",
    "    # messages, typ int, Liczba wiadomości od 2020-12-13 do 2020-12-19\n",
    "    return truncated_df[truncated_df[\"type_name\"] == \"user\"].shape[0]\n",
    "# Żeby dostać liczbę wiadomości użytkowników w danym czasie trzeba wziąć wszystkie eventy gdzie 'type_name' jest równe 'user'\n",
    "# truncated_df[truncated_df[\"type_name\"] == \"user\"] - To jest filtr\n",
    "# .shape[0] - To daję nam liczbę wierszy\n",
    "messages = get_unique_texts(df, \"2020-12-13\", \"2020-12-19\")\n",
    "print(f\"Liczba wiadomości: {messages}\")\n",
    "\n",
    "\n",
    "def avg_messages_per_session(df, start_date, end_date):\n",
    "    sessions = get_unique_users(df, start_date, end_date)\n",
    "    messages = get_unique_texts(df, start_date, end_date)\n",
    "    #agrs: \n",
    "    # df-dataFrame z pliku csv, \n",
    "    # start-date-typ date, data początkowa,\n",
    "    # end_date-typ date, data końcowa\n",
    "    # returns:\n",
    "    # average_number_text: messages/sessions, typ float, Średnia liczba wiadomości na sesję w okreście czasu w okresie czasu od start_date do end_date.\n",
    "    return messages/sessions\n",
    "average_number_text = messages/sessions\n",
    "start_date = \"2020-12-13\"\n",
    "end_date = \"2020-12-19\"\n",
    "average_messages = avg_messages_per_session(df, start_date, end_date)\n",
    "\n",
    "print(f\"Średnia liczba wiadomości na sesję w okreście czasu od {start_date} do {end_date}: {average_number_text}\")"
   ]
  },
  {
   "cell_type": "code",
   "execution_count": 19,
   "metadata": {},
   "outputs": [
    {
     "data": {
      "text/plain": [
       "2021-01-14 17:47:00    43\n",
       "2021-01-14 17:46:00    36\n",
       "2021-01-15 19:31:00    31\n",
       "2020-12-21 21:33:00    31\n",
       "2020-12-13 17:36:00    27\n",
       "                       ..\n",
       "2020-12-17 14:26:00     4\n",
       "2020-12-17 22:46:00     4\n",
       "2020-12-17 14:45:00     4\n",
       "2020-12-13 17:22:00     3\n",
       "2020-12-13 16:47:00     2\n",
       "Name: hour, Length: 119, dtype: int64"
      ]
     },
     "execution_count": 19,
     "metadata": {},
     "output_type": "execute_result"
    }
   ],
   "source": [
    "# Wskaźnik najpopularniejsze godziny korzystania\n",
    "# Trzeba ograniczyć timestamp do 'czułości jaką chcemy osiągnąć\" np. godziny, dni, dni tygodnia etc.\n",
    "# W tej chwili wydobyto z timestampa godzinę, było to możliwe dzięki temu, że Timestamp jest już w typie danych datetime \n",
    "\n",
    "df[\"hour\"] = df[\"timestamp\"] # Kolumnę z samą godziną\n",
    "df[\"hour\"].value_counts() # Podaje wartośc"
   ]
  },
  {
   "cell_type": "code",
   "execution_count": 20,
   "metadata": {},
   "outputs": [
    {
     "name": "stdout",
     "output_type": "stream",
     "text": [
      "Liczba użytkowników: 13\n"
     ]
    }
   ],
   "source": [
    "# Wskaźnik dotyczący liczby użytkowników w przedziale czasu(2020-12-14/202-12-19) \n",
    "\n",
    "def get_unique_users(df, start_date, end_date):\n",
    "    truncated_df = df[(df[\"timestamp\"] >= start_date) & (df[\"timestamp\"] < end_date)]\n",
    "    #agrs: \n",
    "    # df-dataFrame z pliku csv, \n",
    "    # start-date-typ date,data początkowa,\n",
    "    # end_date-typ,date, data końcowa\n",
    "    # returns:\n",
    "    #nunique, typ int, Liczba użytkowników od 2020-12-13 do 2020-12-19\n",
    "    return truncated_df[\"sender_id\"].nunique()\n",
    "\n",
    "nunique = get_unique_users(df, \"2020-12-14\", \"2020-12-19\")\n",
    "print(f\"Liczba użytkowników: {nunique}\")"
   ]
  },
  {
   "cell_type": "code",
   "execution_count": 21,
   "metadata": {},
   "outputs": [
    {
     "name": "stdout",
     "output_type": "stream",
     "text": [
      "intent_name\n",
      "None                      986\n",
      "adres                       5\n",
      "affirm                      5\n",
      "bufet                       2\n",
      "continue                    2\n",
      "deny                        7\n",
      "dyplomowanie                2\n",
      "dziekanat_explain_both      1\n",
      "dziekanat_info              1\n",
      "dziekanat_location          1\n",
      "dziekanat_times             3\n",
      "erasmus                     2\n",
      "goodbye                     1\n",
      "greet                      55\n",
      "happy                       2\n",
      "harmonogram                 1\n",
      "help                        1\n",
      "inform                     18\n",
      "kierownictwo                1\n",
      "kim_jestes                  1\n",
      "konsultacje                25\n",
      "kontakt                     8\n",
      "legitymacja                 4\n",
      "mail                        4\n",
      "mapa                        5\n",
      "nlu_fallback               19\n",
      "oplaty_za_studia            3\n",
      "out_of_scope                9\n",
      "pokoj                       1\n",
      "praktyki                    3\n",
      "room                       19\n",
      "sad                         1\n",
      "sesja                       1\n",
      "siatka_studiow              2\n",
      "skills                      2\n",
      "stypendium                  4\n",
      "thanks                      2\n",
      "timetable                   1\n",
      "tytul                      13\n",
      "webchat_tooltip             9\n",
      "wrs_info                    4\n",
      "zapomoga                    1\n",
      "Name: intent_name, dtype: int64\n"
     ]
    }
   ],
   "source": [
    "# Wskaźnik dotyczący kategoryzowanie pytań oraz zliczania ich liczby\n",
    "sorted_questions = df.groupby('intent_name').intent_name.count()# dokonano grupowania po intent_name a następnie zliczono dane pytania, liczba podana w typie int\n",
    "print (sorted_questions)"
   ]
  },
  {
   "cell_type": "code",
   "execution_count": 22,
   "metadata": {},
   "outputs": [
    {
     "data": {
      "text/plain": [
       "19"
      ]
     },
     "execution_count": 22,
     "metadata": {},
     "output_type": "execute_result"
    }
   ],
   "source": [
    "# Wskaźnik dotyczący zliczania błędów \n",
    "errors = df[df[\"intent_name\"] == \"nlu_fallback\"]\n",
    "len(errors) # lub errors.shape[0] ten sam efekt, typ int\n"
   ]
  },
  {
   "cell_type": "code",
   "execution_count": 23,
   "metadata": {},
   "outputs": [
    {
     "data": {
      "text/html": [
       "<div>\n",
       "<style scoped>\n",
       "    .dataframe tbody tr th:only-of-type {\n",
       "        vertical-align: middle;\n",
       "    }\n",
       "\n",
       "    .dataframe tbody tr th {\n",
       "        vertical-align: top;\n",
       "    }\n",
       "\n",
       "    .dataframe thead th {\n",
       "        text-align: right;\n",
       "    }\n",
       "</style>\n",
       "<table border=\"1\" class=\"dataframe\">\n",
       "  <thead>\n",
       "    <tr style=\"text-align: right;\">\n",
       "      <th></th>\n",
       "      <th>Column1</th>\n",
       "      <th>id</th>\n",
       "      <th>sender_id</th>\n",
       "      <th>type_name</th>\n",
       "      <th>timestamp</th>\n",
       "      <th>intent_name</th>\n",
       "      <th>action_name</th>\n",
       "      <th>text</th>\n",
       "      <th>slot_name</th>\n",
       "      <th>slot_value</th>\n",
       "      <th>intent_confidence</th>\n",
       "    </tr>\n",
       "  </thead>\n",
       "  <tbody>\n",
       "    <tr>\n",
       "      <th>207</th>\n",
       "      <td>207</td>\n",
       "      <td>190</td>\n",
       "      <td>5b4e6c442a364c9a8fdaf78bb61529a9</td>\n",
       "      <td>user</td>\n",
       "      <td>2020-12-13 17:36:00</td>\n",
       "      <td>nlu_fallback</td>\n",
       "      <td>NaN</td>\n",
       "      <td>BLA BLA</td>\n",
       "      <td>NaN</td>\n",
       "      <td>NaN</td>\n",
       "      <td>0.672338</td>\n",
       "    </tr>\n",
       "    <tr>\n",
       "      <th>222</th>\n",
       "      <td>222</td>\n",
       "      <td>208</td>\n",
       "      <td>5b4e6c442a364c9a8fdaf78bb61529a9</td>\n",
       "      <td>user</td>\n",
       "      <td>2020-12-13 17:36:00</td>\n",
       "      <td>nlu_fallback</td>\n",
       "      <td>NaN</td>\n",
       "      <td>BLA BLA</td>\n",
       "      <td>NaN</td>\n",
       "      <td>NaN</td>\n",
       "      <td>0.672338</td>\n",
       "    </tr>\n",
       "    <tr>\n",
       "      <th>229</th>\n",
       "      <td>229</td>\n",
       "      <td>217</td>\n",
       "      <td>5b4e6c442a364c9a8fdaf78bb61529a9</td>\n",
       "      <td>user</td>\n",
       "      <td>2020-12-13 17:37:00</td>\n",
       "      <td>nlu_fallback</td>\n",
       "      <td>NaN</td>\n",
       "      <td>BLA BLA</td>\n",
       "      <td>NaN</td>\n",
       "      <td>NaN</td>\n",
       "      <td>0.672338</td>\n",
       "    </tr>\n",
       "    <tr>\n",
       "      <th>246</th>\n",
       "      <td>246</td>\n",
       "      <td>231</td>\n",
       "      <td>5b4e6c442a364c9a8fdaf78bb61529a9</td>\n",
       "      <td>user</td>\n",
       "      <td>2020-12-13 17:38:00</td>\n",
       "      <td>nlu_fallback</td>\n",
       "      <td>NaN</td>\n",
       "      <td>BLA BLA</td>\n",
       "      <td>NaN</td>\n",
       "      <td>NaN</td>\n",
       "      <td>0.672338</td>\n",
       "    </tr>\n",
       "    <tr>\n",
       "      <th>283</th>\n",
       "      <td>283</td>\n",
       "      <td>268</td>\n",
       "      <td>5b4e6c442a364c9a8fdaf78bb61529a9</td>\n",
       "      <td>user</td>\n",
       "      <td>2020-12-13 18:11:00</td>\n",
       "      <td>nlu_fallback</td>\n",
       "      <td>NaN</td>\n",
       "      <td>do domu ziomek</td>\n",
       "      <td>NaN</td>\n",
       "      <td>NaN</td>\n",
       "      <td>0.655446</td>\n",
       "    </tr>\n",
       "  </tbody>\n",
       "</table>\n",
       "</div>"
      ],
      "text/plain": [
       "     Column1   id                         sender_id type_name  \\\n",
       "207      207  190  5b4e6c442a364c9a8fdaf78bb61529a9      user   \n",
       "222      222  208  5b4e6c442a364c9a8fdaf78bb61529a9      user   \n",
       "229      229  217  5b4e6c442a364c9a8fdaf78bb61529a9      user   \n",
       "246      246  231  5b4e6c442a364c9a8fdaf78bb61529a9      user   \n",
       "283      283  268  5b4e6c442a364c9a8fdaf78bb61529a9      user   \n",
       "\n",
       "              timestamp   intent_name action_name            text slot_name  \\\n",
       "207 2020-12-13 17:36:00  nlu_fallback         NaN         BLA BLA       NaN   \n",
       "222 2020-12-13 17:36:00  nlu_fallback         NaN         BLA BLA       NaN   \n",
       "229 2020-12-13 17:37:00  nlu_fallback         NaN         BLA BLA       NaN   \n",
       "246 2020-12-13 17:38:00  nlu_fallback         NaN         BLA BLA       NaN   \n",
       "283 2020-12-13 18:11:00  nlu_fallback         NaN  do domu ziomek       NaN   \n",
       "\n",
       "    slot_value  intent_confidence  \n",
       "207        NaN           0.672338  \n",
       "222        NaN           0.672338  \n",
       "229        NaN           0.672338  \n",
       "246        NaN           0.672338  \n",
       "283        NaN           0.655446  "
      ]
     },
     "execution_count": 23,
     "metadata": {},
     "output_type": "execute_result"
    }
   ],
   "source": [
    "# Wskaźnik dotyczący wybierania zapytań, w których chatbot nie rozpoznał tekstu\n",
    "df = pd.read_csv(\"rasa_events_processed.csv\",delimiter=\";\",parse_dates =['timestamp'])\n",
    "\n",
    "def get_not_recognized(df):\n",
    "    user_texts = df[df[\"type_name\"] == \"user\"]\n",
    "    #agrs: \n",
    "    # df-dataFrame z pliku csv, \n",
    "    # returns:\n",
    "    # user_texts,zwraca te zapytania, w których intent_name jest równy nlu_fallback\n",
    "    return user_texts[user_texts[\"intent_name\"] == \"nlu_fallback\"]\n",
    "\n",
    "not_recognized = get_not_recognized(df)\n",
    "not_recognized.head()"
   ]
  },
  {
   "cell_type": "code",
   "execution_count": 24,
   "metadata": {},
   "outputs": [
    {
     "name": "stdout",
     "output_type": "stream",
     "text": [
      "0       5\n",
      "1       5\n",
      "2       5\n",
      "3       5\n",
      "4       5\n",
      "       ..\n",
      "1232    5\n",
      "1233    5\n",
      "1234    5\n",
      "1235    5\n",
      "1236    5\n",
      "Length: 1237, dtype: int64\n"
     ]
    }
   ],
   "source": [
    "# Wskaźnik dodatkowy dotyczący oceny rozmowy\n",
    "# przykładowo zrobiono na podstawie wartości intent_name, w których chatbot nie rozpoznał tesktu co\n",
    "# może wpłynąć na niską ocenę chatbota przez użytkownika, ocena w gwiazdkach od 1-5;\n",
    "# W planach jest posiadanie oceny użytkownika, dzięki czemu będzie można wydobyć intent np. ocena_rozmowy i wartość jaką wybrał użytkownik\n",
    "df = pd.read_csv(\"rasa_events_processed.csv\",delimiter=\";\",parse_dates =['timestamp'])\n",
    "def stars(row):\n",
    "    if row.intent_name == \"nlu_fallback\":\n",
    "        return 1\n",
    "    else:\n",
    "        return 5\n",
    "#agrs: \n",
    "# row-wiersze, \n",
    "# returns:\n",
    "# 1 lub 5, typ int, w zależnosći(warunek if) od tego jeśli w wierszu intent_name będzie równe nlu_fallback(brak rozpoznania tekstu) to wtedy zwracana jest 1 a jeśli nie jest równy w wierszu intent_name nlu_fallback to 5\n",
    "star_ratings = df.apply(stars, axis='columns')\n",
    "print(star_ratings)"
   ]
  }
 ],
 "metadata": {
  "interpreter": {
   "hash": "4240b5004477c80b4a24bac622e5201c81ddf83fe68f2c11f712ff096063762f"
  },
  "kernelspec": {
   "display_name": "Python 3.8.10 64-bit ('.venv': venv)",
   "language": "python",
   "name": "python3"
  },
  "language_info": {
   "codemirror_mode": {
    "name": "ipython",
    "version": 3
   },
   "file_extension": ".py",
   "mimetype": "text/x-python",
   "name": "python",
   "nbconvert_exporter": "python",
   "pygments_lexer": "ipython3",
   "version": "3.8.10"
  },
  "orig_nbformat": 4
 },
 "nbformat": 4,
 "nbformat_minor": 2
}
